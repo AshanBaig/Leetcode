{
 "cells": [
  {
   "cell_type": "code",
   "execution_count": 1,
   "id": "6e3c177a-9a62-4ac6-9bb7-0df99f1da187",
   "metadata": {},
   "outputs": [],
   "source": [
    "import pandas as pd"
   ]
  },
  {
   "cell_type": "code",
   "execution_count": 5,
   "id": "92490aab-3b9a-40fa-b745-b201879c2e4b",
   "metadata": {},
   "outputs": [
    {
     "name": "stdout",
     "output_type": "stream",
     "text": [
      "0        1\n",
      "1        2\n",
      "2        3\n",
      "3    hello\n",
      "4     3.91\n",
      "dtype: object\n"
     ]
    }
   ],
   "source": [
    "#LEC 1   Series\n",
    "series1=pd.Series([1,2,3,'hello',3.91]) #default index 0,1,2,3,4 we can change it .\n",
    "print(series1)"
   ]
  },
  {
   "cell_type": "code",
   "execution_count": 13,
   "id": "222772d3-a71c-49de-8202-84f25ed841c8",
   "metadata": {},
   "outputs": [
    {
     "name": "stdout",
     "output_type": "stream",
     "text": [
      "Series([], dtype: object)\n"
     ]
    }
   ],
   "source": [
    "l=[]\n",
    "series2=pd.Series(l) #we can pass the list and this is empty list creation\n",
    "print(series2)"
   ]
  },
  {
   "cell_type": "code",
   "execution_count": 23,
   "id": "967fbe26-34c8-4cce-82a4-d09090c02568",
   "metadata": {},
   "outputs": [
    {
     "name": "stdout",
     "output_type": "stream",
     "text": [
      "a    1.0\n",
      "b    2.0\n",
      "c    3.0\n",
      "d    4.0\n",
      "dtype: float64\n",
      "3.0\n"
     ]
    }
   ],
   "source": [
    "series3=pd.Series([1,2,3,4],index=['a','b','c','d'],dtype=float)  #changing  index and changing data type\n",
    "print(series3)\n",
    "print(series3['c'])"
   ]
  },
  {
   "cell_type": "code",
   "execution_count": 27,
   "id": "ff9f7eab-e428-4fd3-a5fe-59c2636fb420",
   "metadata": {},
   "outputs": [
    {
     "name": "stdout",
     "output_type": "stream",
     "text": [
      "a    1.0\n",
      "b    2.0\n",
      "c    3.0\n",
      "d    4.0\n",
      "Name: Data values, dtype: float64\n",
      "3.0\n"
     ]
    }
   ],
   "source": [
    "series4=pd.Series([1,2,3,4],index=['a','b','c','d'],dtype=float,name='Data values')  #Giving name to column easy recognize the\n",
    "                                                                                     #type of data like school fee or employee id or bill number\n",
    "print(series4)\n",
    "print(series4['c'])"
   ]
  },
  {
   "cell_type": "code",
   "execution_count": 31,
   "id": "9cd30c02-cfbf-487d-81bb-cc4b02fe459a",
   "metadata": {},
   "outputs": [
    {
     "name": "stdout",
     "output_type": "stream",
     "text": [
      "0    0.6\n",
      "dtype: float64\n"
     ]
    }
   ],
   "source": [
    "#Series for Single scalar values\n",
    "scalar_s=pd.Series(0.6)\n",
    "print(scalar_s)"
   ]
  },
  {
   "cell_type": "code",
   "execution_count": 33,
   "id": "f3a5b60e-b8d4-456c-a7b3-0653ab819f7e",
   "metadata": {},
   "outputs": [
    {
     "name": "stdout",
     "output_type": "stream",
     "text": [
      "1    0.6\n",
      "2    0.6\n",
      "3    0.6\n",
      "4    0.6\n",
      "dtype: float64\n"
     ]
    }
   ],
   "source": [
    "#Series for Single scalar values with multiple index like we if create some value for default and then we will change if we want\n",
    "scalar_s=pd.Series(0.6,index=[1,2,3,4])\n",
    "print(scalar_s)"
   ]
  },
  {
   "cell_type": "code",
   "execution_count": 37,
   "id": "f4fc9493-da4d-4afb-b4dc-c7296762cbe7",
   "metadata": {},
   "outputs": [
    {
     "name": "stdout",
     "output_type": "stream",
     "text": [
      "product1     Apple\n",
      "product2    Orange\n",
      "dtype: object\n"
     ]
    }
   ],
   "source": [
    "dict_1=pd.Series({'product1':'Apple','product2':'Orange'})\n",
    "print(dict_1)"
   ]
  },
  {
   "cell_type": "code",
   "execution_count": 39,
   "id": "d6804418-613c-403e-baa9-db5b6538b444",
   "metadata": {},
   "outputs": [
    {
     "name": "stdout",
     "output_type": "stream",
     "text": [
      "0    1\n",
      "1    2\n",
      "2    3\n",
      "3    4\n",
      "4    5\n",
      "dtype: int64\n"
     ]
    }
   ],
   "source": [
    "s4=pd.Series([1,2,3,4,5]) #Opearators Silicing  \n",
    "print(s4)"
   ]
  },
  {
   "cell_type": "code",
   "execution_count": 45,
   "id": "b611269a-2a87-4a47-b445-14753c5ba64d",
   "metadata": {},
   "outputs": [
    {
     "data": {
      "text/plain": [
       "5"
      ]
     },
     "execution_count": 45,
     "metadata": {},
     "output_type": "execute_result"
    }
   ],
   "source": [
    "max(s4)"
   ]
  },
  {
   "cell_type": "code",
   "execution_count": 47,
   "id": "0ae29c41-d5d6-49fb-959d-a15790e8a5b3",
   "metadata": {},
   "outputs": [
    {
     "data": {
      "text/plain": [
       "1"
      ]
     },
     "execution_count": 47,
     "metadata": {},
     "output_type": "execute_result"
    }
   ],
   "source": [
    "min(s4)"
   ]
  },
  {
   "cell_type": "code",
   "execution_count": 51,
   "id": "6347caa3-50fe-4b6c-b12b-df32262f651b",
   "metadata": {},
   "outputs": [
    {
     "data": {
      "text/plain": [
       "1    2\n",
       "dtype: int64"
      ]
     },
     "execution_count": 51,
     "metadata": {},
     "output_type": "execute_result"
    }
   ],
   "source": [
    "s4[1:2]"
   ]
  },
  {
   "cell_type": "code",
   "execution_count": 53,
   "id": "af2cc430-1295-473d-95c8-d8f034b5e39c",
   "metadata": {},
   "outputs": [
    {
     "data": {
      "text/plain": [
       "3    4\n",
       "4    5\n",
       "dtype: int64"
      ]
     },
     "execution_count": 53,
     "metadata": {},
     "output_type": "execute_result"
    }
   ],
   "source": [
    "#new thing   values greater than 3 will be return \n",
    "s4[s4>3]"
   ]
  },
  {
   "cell_type": "code",
   "execution_count": 65,
   "id": "7eacf3c7-9312-4fe5-a7e9-4dc86953153e",
   "metadata": {},
   "outputs": [
    {
     "name": "stdout",
     "output_type": "stream",
     "text": [
      "0    1\n",
      "1    2\n",
      "2    3\n",
      "3    4\n",
      "4    5\n",
      "dtype: int64\n"
     ]
    }
   ],
   "source": [
    "s5=pd.Series([1,2,3,4,5])\n",
    "print(s5)"
   ]
  },
  {
   "cell_type": "code",
   "execution_count": 67,
   "id": "158bb663-d396-45b5-a244-aa06fccd9262",
   "metadata": {},
   "outputs": [
    {
     "data": {
      "text/plain": [
       "0     2\n",
       "1     4\n",
       "2     6\n",
       "3     8\n",
       "4    10\n",
       "dtype: int64"
      ]
     },
     "execution_count": 67,
     "metadata": {},
     "output_type": "execute_result"
    }
   ],
   "source": [
    "s4+s5     "
   ]
  },
  {
   "cell_type": "code",
   "execution_count": 71,
   "id": "d2f04c5a-af22-48e1-ace6-ad7484fba176",
   "metadata": {},
   "outputs": [
    {
     "data": {
      "text/plain": [
       "0    2.0\n",
       "1    4.0\n",
       "2    6.0\n",
       "3    NaN\n",
       "4    NaN\n",
       "dtype: float64"
      ]
     },
     "execution_count": 71,
     "metadata": {},
     "output_type": "execute_result"
    }
   ],
   "source": [
    "s6=pd.Series([1,2,3])  #Add index wise and if same index not found then NaN (Not a number)\n",
    "s5+s6"
   ]
  },
  {
   "cell_type": "code",
   "execution_count": 75,
   "id": "d64d77f9-8d65-469f-ab25-cdd3ef0b2de4",
   "metadata": {},
   "outputs": [],
   "source": []
  }
 ],
 "metadata": {
  "kernelspec": {
   "display_name": "Python 3 (ipykernel)",
   "language": "python",
   "name": "python3"
  },
  "language_info": {
   "codemirror_mode": {
    "name": "ipython",
    "version": 3
   },
   "file_extension": ".py",
   "mimetype": "text/x-python",
   "name": "python",
   "nbconvert_exporter": "python",
   "pygments_lexer": "ipython3",
   "version": "3.12.4"
  }
 },
 "nbformat": 4,
 "nbformat_minor": 5
}
