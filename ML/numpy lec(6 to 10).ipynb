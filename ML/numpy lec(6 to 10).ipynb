{
 "cells": [
  {
   "cell_type": "code",
   "execution_count": 1,
   "id": "2eef8250-6eac-4a3a-8419-66a4d7b9326b",
   "metadata": {},
   "outputs": [],
   "source": [
    "import numpy as np\n",
    "mx=np.arange(1,101).reshape(10,10)"
   ]
  },
  {
   "cell_type": "code",
   "execution_count": 2,
   "id": "c95b5996-d536-4588-95a8-d511fdfe065e",
   "metadata": {},
   "outputs": [
    {
     "name": "stdout",
     "output_type": "stream",
     "text": [
      "[[  1   2   3   4   5   6   7   8   9  10]\n",
      " [ 11  12  13  14  15  16  17  18  19  20]\n",
      " [ 21  22  23  24  25  26  27  28  29  30]\n",
      " [ 31  32  33  34  35  36  37  38  39  40]\n",
      " [ 41  42  43  44  45  46  47  48  49  50]\n",
      " [ 51  52  53  54  55  56  57  58  59  60]\n",
      " [ 61  62  63  64  65  66  67  68  69  70]\n",
      " [ 71  72  73  74  75  76  77  78  79  80]\n",
      " [ 81  82  83  84  85  86  87  88  89  90]\n",
      " [ 91  92  93  94  95  96  97  98  99 100]]\n"
     ]
    }
   ],
   "source": [
    "print(mx)"
   ]
  },
  {
   "cell_type": "code",
   "execution_count": 3,
   "id": "975624fb-a2f5-4055-93cb-255c3107b825",
   "metadata": {},
   "outputs": [
    {
     "data": {
      "text/plain": [
       "35"
      ]
     },
     "execution_count": 3,
     "metadata": {},
     "output_type": "execute_result"
    }
   ],
   "source": [
    "mx[3,4]"
   ]
  },
  {
   "cell_type": "code",
   "execution_count": 4,
   "id": "cc076d50-7a6b-4584-9943-a9e9059dec5b",
   "metadata": {},
   "outputs": [
    {
     "data": {
      "text/plain": [
       "array([35, 45, 55, 65, 75, 85, 95])"
      ]
     },
     "execution_count": 4,
     "metadata": {},
     "output_type": "execute_result"
    }
   ],
   "source": [
    "mx[3:,4]  #4th column its not slicing basically slicing is on rows"
   ]
  },
  {
   "cell_type": "code",
   "execution_count": 5,
   "id": "7d2774d7-7267-4afc-95b5-7c19ecd9cd48",
   "metadata": {},
   "outputs": [
    {
     "data": {
      "text/plain": [
       "array([[  5,   6,   7,   8,   9,  10],\n",
       "       [ 15,  16,  17,  18,  19,  20],\n",
       "       [ 25,  26,  27,  28,  29,  30],\n",
       "       [ 35,  36,  37,  38,  39,  40],\n",
       "       [ 45,  46,  47,  48,  49,  50],\n",
       "       [ 55,  56,  57,  58,  59,  60],\n",
       "       [ 65,  66,  67,  68,  69,  70],\n",
       "       [ 75,  76,  77,  78,  79,  80],\n",
       "       [ 85,  86,  87,  88,  89,  90],\n",
       "       [ 95,  96,  97,  98,  99, 100]])"
      ]
     },
     "execution_count": 5,
     "metadata": {},
     "output_type": "execute_result"
    }
   ],
   "source": [
    "mx[:,4:]"
   ]
  },
  {
   "cell_type": "code",
   "execution_count": 6,
   "id": "69be2293-62da-438f-812a-fd9a616e9592",
   "metadata": {},
   "outputs": [
    {
     "data": {
      "text/plain": [
       "array([[ 5],\n",
       "       [15],\n",
       "       [25],\n",
       "       [35],\n",
       "       [45],\n",
       "       [55],\n",
       "       [65],\n",
       "       [75],\n",
       "       [85],\n",
       "       [95]])"
      ]
     },
     "execution_count": 6,
     "metadata": {},
     "output_type": "execute_result"
    }
   ],
   "source": [
    "mx[:,4:5]  #NO of columns 4:5 means each sublist contain 1 column"
   ]
  },
  {
   "cell_type": "code",
   "execution_count": 7,
   "id": "1e7237b7-89fd-449c-bc2b-3a9b19be56f4",
   "metadata": {},
   "outputs": [
    {
     "data": {
      "text/plain": [
       "array([[12, 13, 14],\n",
       "       [22, 23, 24],\n",
       "       [32, 33, 34]])"
      ]
     },
     "execution_count": 7,
     "metadata": {},
     "output_type": "execute_result"
    }
   ],
   "source": [
    "mx[1:4,1:4]"
   ]
  },
  {
   "cell_type": "code",
   "execution_count": 8,
   "id": "b59ad7ac-a4f3-4da6-a84e-b1de3dcb8240",
   "metadata": {},
   "outputs": [
    {
     "data": {
      "text/plain": [
       "array([[  1,   2,   3,   4,   5,   6,   7,   8,   9,  10],\n",
       "       [ 11,  12,  13,  14,  15,  16,  17,  18,  19,  20],\n",
       "       [ 21,  22,  23,  24,  25,  26,  27,  28,  29,  30],\n",
       "       [ 31,  32,  33,  34,  35,  36,  37,  38,  39,  40],\n",
       "       [ 41,  42,  43,  44,  45,  46,  47,  48,  49,  50],\n",
       "       [ 51,  52,  53,  54,  55,  56,  57,  58,  59,  60],\n",
       "       [ 61,  62,  63,  64,  65,  66,  67,  68,  69,  70],\n",
       "       [ 71,  72,  73,  74,  75,  76,  77,  78,  79,  80],\n",
       "       [ 81,  82,  83,  84,  85,  86,  87,  88,  89,  90],\n",
       "       [ 91,  92,  93,  94,  95,  96,  97,  98,  99, 100]])"
      ]
     },
     "execution_count": 8,
     "metadata": {},
     "output_type": "execute_result"
    }
   ],
   "source": [
    "mx"
   ]
  },
  {
   "cell_type": "code",
   "execution_count": 9,
   "id": "4d773af8-cece-4631-9d4b-48424e747e89",
   "metadata": {},
   "outputs": [
    {
     "name": "stdout",
     "output_type": "stream",
     "text": [
      "[[ 1  2  3]\n",
      " [11 12 13]\n",
      " [21 22 23]]\n",
      "[[ 2  3  4]\n",
      " [12 13 14]\n",
      " [22 23 24]]\n",
      "[[ 3  4  5]\n",
      " [13 14 15]\n",
      " [23 24 25]]\n",
      "[[ 4  5  6]\n",
      " [14 15 16]\n",
      " [24 25 26]]\n",
      "[[ 5  6  7]\n",
      " [15 16 17]\n",
      " [25 26 27]]\n",
      "[[ 6  7  8]\n",
      " [16 17 18]\n",
      " [26 27 28]]\n",
      "[[ 7  8  9]\n",
      " [17 18 19]\n",
      " [27 28 29]]\n",
      "[[ 8  9 10]\n",
      " [18 19 20]\n",
      " [28 29 30]]\n",
      "[[ 9 10]\n",
      " [19 20]\n",
      " [29 30]]\n",
      "[[10]\n",
      " [20]\n",
      " [30]]\n",
      "[[11 12 13]\n",
      " [21 22 23]\n",
      " [31 32 33]]\n",
      "[[12 13 14]\n",
      " [22 23 24]\n",
      " [32 33 34]]\n",
      "[[13 14 15]\n",
      " [23 24 25]\n",
      " [33 34 35]]\n",
      "[[14 15 16]\n",
      " [24 25 26]\n",
      " [34 35 36]]\n",
      "[[15 16 17]\n",
      " [25 26 27]\n",
      " [35 36 37]]\n",
      "[[16 17 18]\n",
      " [26 27 28]\n",
      " [36 37 38]]\n",
      "[[17 18 19]\n",
      " [27 28 29]\n",
      " [37 38 39]]\n",
      "[[18 19 20]\n",
      " [28 29 30]\n",
      " [38 39 40]]\n",
      "[[19 20]\n",
      " [29 30]\n",
      " [39 40]]\n",
      "[[20]\n",
      " [30]\n",
      " [40]]\n",
      "[[21 22 23]\n",
      " [31 32 33]\n",
      " [41 42 43]]\n",
      "[[22 23 24]\n",
      " [32 33 34]\n",
      " [42 43 44]]\n",
      "[[23 24 25]\n",
      " [33 34 35]\n",
      " [43 44 45]]\n",
      "[[24 25 26]\n",
      " [34 35 36]\n",
      " [44 45 46]]\n",
      "[[25 26 27]\n",
      " [35 36 37]\n",
      " [45 46 47]]\n",
      "[[26 27 28]\n",
      " [36 37 38]\n",
      " [46 47 48]]\n",
      "[[27 28 29]\n",
      " [37 38 39]\n",
      " [47 48 49]]\n",
      "[[28 29 30]\n",
      " [38 39 40]\n",
      " [48 49 50]]\n",
      "[[29 30]\n",
      " [39 40]\n",
      " [49 50]]\n",
      "[[30]\n",
      " [40]\n",
      " [50]]\n",
      "[[31 32 33]\n",
      " [41 42 43]\n",
      " [51 52 53]]\n",
      "[[32 33 34]\n",
      " [42 43 44]\n",
      " [52 53 54]]\n",
      "[[33 34 35]\n",
      " [43 44 45]\n",
      " [53 54 55]]\n",
      "[[34 35 36]\n",
      " [44 45 46]\n",
      " [54 55 56]]\n",
      "[[35 36 37]\n",
      " [45 46 47]\n",
      " [55 56 57]]\n",
      "[[36 37 38]\n",
      " [46 47 48]\n",
      " [56 57 58]]\n",
      "[[37 38 39]\n",
      " [47 48 49]\n",
      " [57 58 59]]\n",
      "[[38 39 40]\n",
      " [48 49 50]\n",
      " [58 59 60]]\n",
      "[[39 40]\n",
      " [49 50]\n",
      " [59 60]]\n",
      "[[40]\n",
      " [50]\n",
      " [60]]\n",
      "[[41 42 43]\n",
      " [51 52 53]\n",
      " [61 62 63]]\n",
      "[[42 43 44]\n",
      " [52 53 54]\n",
      " [62 63 64]]\n",
      "[[43 44 45]\n",
      " [53 54 55]\n",
      " [63 64 65]]\n",
      "[[44 45 46]\n",
      " [54 55 56]\n",
      " [64 65 66]]\n",
      "[[45 46 47]\n",
      " [55 56 57]\n",
      " [65 66 67]]\n",
      "[[46 47 48]\n",
      " [56 57 58]\n",
      " [66 67 68]]\n",
      "[[47 48 49]\n",
      " [57 58 59]\n",
      " [67 68 69]]\n",
      "[[48 49 50]\n",
      " [58 59 60]\n",
      " [68 69 70]]\n",
      "[[49 50]\n",
      " [59 60]\n",
      " [69 70]]\n",
      "[[50]\n",
      " [60]\n",
      " [70]]\n",
      "[[51 52 53]\n",
      " [61 62 63]\n",
      " [71 72 73]]\n",
      "[[52 53 54]\n",
      " [62 63 64]\n",
      " [72 73 74]]\n",
      "[[53 54 55]\n",
      " [63 64 65]\n",
      " [73 74 75]]\n",
      "[[54 55 56]\n",
      " [64 65 66]\n",
      " [74 75 76]]\n",
      "[[55 56 57]\n",
      " [65 66 67]\n",
      " [75 76 77]]\n",
      "[[56 57 58]\n",
      " [66 67 68]\n",
      " [76 77 78]]\n",
      "[[57 58 59]\n",
      " [67 68 69]\n",
      " [77 78 79]]\n",
      "[[58 59 60]\n",
      " [68 69 70]\n",
      " [78 79 80]]\n",
      "[[59 60]\n",
      " [69 70]\n",
      " [79 80]]\n",
      "[[60]\n",
      " [70]\n",
      " [80]]\n",
      "[[61 62 63]\n",
      " [71 72 73]\n",
      " [81 82 83]]\n",
      "[[62 63 64]\n",
      " [72 73 74]\n",
      " [82 83 84]]\n",
      "[[63 64 65]\n",
      " [73 74 75]\n",
      " [83 84 85]]\n",
      "[[64 65 66]\n",
      " [74 75 76]\n",
      " [84 85 86]]\n",
      "[[65 66 67]\n",
      " [75 76 77]\n",
      " [85 86 87]]\n",
      "[[66 67 68]\n",
      " [76 77 78]\n",
      " [86 87 88]]\n",
      "[[67 68 69]\n",
      " [77 78 79]\n",
      " [87 88 89]]\n",
      "[[68 69 70]\n",
      " [78 79 80]\n",
      " [88 89 90]]\n",
      "[[69 70]\n",
      " [79 80]\n",
      " [89 90]]\n",
      "[[70]\n",
      " [80]\n",
      " [90]]\n",
      "[[71 72 73]\n",
      " [81 82 83]\n",
      " [91 92 93]]\n",
      "[[72 73 74]\n",
      " [82 83 84]\n",
      " [92 93 94]]\n",
      "[[73 74 75]\n",
      " [83 84 85]\n",
      " [93 94 95]]\n",
      "[[74 75 76]\n",
      " [84 85 86]\n",
      " [94 95 96]]\n",
      "[[75 76 77]\n",
      " [85 86 87]\n",
      " [95 96 97]]\n",
      "[[76 77 78]\n",
      " [86 87 88]\n",
      " [96 97 98]]\n",
      "[[77 78 79]\n",
      " [87 88 89]\n",
      " [97 98 99]]\n",
      "[[ 78  79  80]\n",
      " [ 88  89  90]\n",
      " [ 98  99 100]]\n",
      "[[ 79  80]\n",
      " [ 89  90]\n",
      " [ 99 100]]\n",
      "[[ 80]\n",
      " [ 90]\n",
      " [100]]\n"
     ]
    }
   ],
   "source": [
    "for i in range(len(mx)-2):   #EASY PZY\n",
    "    for j in range(len(mx[:,i])): \n",
    "        print(mx[i:i+3,j:j+3])"
   ]
  },
  {
   "cell_type": "code",
   "execution_count": 10,
   "id": "7588f423-3a82-4396-a862-a48ccd13568c",
   "metadata": {},
   "outputs": [
    {
     "data": {
      "text/plain": [
       "4"
      ]
     },
     "execution_count": 10,
     "metadata": {},
     "output_type": "execute_result"
    }
   ],
   "source": [
    "mx.itemsize\n"
   ]
  },
  {
   "cell_type": "code",
   "execution_count": 11,
   "id": "456fef5d-ed0b-42ad-a54c-2771047428ce",
   "metadata": {},
   "outputs": [
    {
     "data": {
      "text/plain": [
       "dtype('int32')"
      ]
     },
     "execution_count": 11,
     "metadata": {},
     "output_type": "execute_result"
    }
   ],
   "source": [
    "mx.dtype"
   ]
  },
  {
   "cell_type": "code",
   "execution_count": 30,
   "id": "266b1786-5169-4bb7-a1b7-4ff12a9b9160",
   "metadata": {},
   "outputs": [
    {
     "name": "stdout",
     "output_type": "stream",
     "text": [
      "[[ 1  2  3  4]\n",
      " [ 5  6  7  8]\n",
      " [ 9 10 11 12]\n",
      " [13 14 15 16]]\n",
      "[[17 18 19 20]\n",
      " [21 22 23 24]\n",
      " [25 26 27 28]\n",
      " [29 30 31 32]]\n"
     ]
    }
   ],
   "source": [
    "# LEC7\n",
    "arr1=np.arange(1,17).reshape(4,4)\n",
    "arr2=np.arange(17,33).reshape(4,4)\n",
    "print(arr1)\n",
    "print(arr2)"
   ]
  },
  {
   "cell_type": "code",
   "execution_count": 38,
   "id": "a2f8ba7a-eac7-4c40-885f-3eb59348a1ac",
   "metadata": {},
   "outputs": [
    {
     "data": {
      "text/plain": [
       "array([[17, 18, 19, 20,  1,  2,  3,  4],\n",
       "       [21, 22, 23, 24,  5,  6,  7,  8],\n",
       "       [25, 26, 27, 28,  9, 10, 11, 12],\n",
       "       [29, 30, 31, 32, 13, 14, 15, 16]])"
      ]
     },
     "execution_count": 38,
     "metadata": {},
     "output_type": "execute_result"
    }
   ],
   "source": [
    "np.concatenate((arr2,arr1),axis=1) #default axis=0"
   ]
  },
  {
   "cell_type": "code",
   "execution_count": 40,
   "id": "c2c31fa2-d0f2-48fb-8138-f5cbe95efb5c",
   "metadata": {},
   "outputs": [
    {
     "data": {
      "text/plain": [
       "array([[ 1,  2,  3,  4],\n",
       "       [ 5,  6,  7,  8],\n",
       "       [ 9, 10, 11, 12],\n",
       "       [13, 14, 15, 16],\n",
       "       [17, 18, 19, 20],\n",
       "       [21, 22, 23, 24],\n",
       "       [25, 26, 27, 28],\n",
       "       [29, 30, 31, 32]])"
      ]
     },
     "execution_count": 40,
     "metadata": {},
     "output_type": "execute_result"
    }
   ],
   "source": [
    "np.vstack((arr1,arr2)) #1 more method for concatination vstack=verticle"
   ]
  },
  {
   "cell_type": "code",
   "execution_count": 42,
   "id": "396c27a7-a9a5-497e-8603-5e0375fdfcec",
   "metadata": {},
   "outputs": [
    {
     "data": {
      "text/plain": [
       "array([[ 1,  2,  3,  4, 17, 18, 19, 20],\n",
       "       [ 5,  6,  7,  8, 21, 22, 23, 24],\n",
       "       [ 9, 10, 11, 12, 25, 26, 27, 28],\n",
       "       [13, 14, 15, 16, 29, 30, 31, 32]])"
      ]
     },
     "execution_count": 42,
     "metadata": {},
     "output_type": "execute_result"
    }
   ],
   "source": [
    "np.hstack((arr1,arr2)) #Horizontal means row to row concatination"
   ]
  },
  {
   "cell_type": "code",
   "execution_count": 56,
   "id": "e99bd2a9-649a-4563-aa70-313f22634d1a",
   "metadata": {},
   "outputs": [],
   "source": [
    "l=np.split(arr1,2)   #2 means 2 part krdo arry ke so 4 row 2 me divide ho jaye gi \n",
    "                   #split alwasy return list"
   ]
  },
  {
   "cell_type": "code",
   "execution_count": 66,
   "id": "e8a4effc-0d71-4a27-a01f-111bf4d61bd2",
   "metadata": {},
   "outputs": [
    {
     "name": "stdout",
     "output_type": "stream",
     "text": [
      "[[1 2 3 4]\n",
      " [5 6 7 8]]\n"
     ]
    }
   ],
   "source": [
    "print(l[0]) # list me array type objects hain len(l) 2 hy bcz we divided into 2 equal parts"
   ]
  },
  {
   "cell_type": "code",
   "execution_count": 64,
   "id": "5dcac290-2b37-480d-9dee-10d7acad1da9",
   "metadata": {},
   "outputs": [
    {
     "data": {
      "text/plain": [
       "numpy.ndarray"
      ]
     },
     "execution_count": 64,
     "metadata": {},
     "output_type": "execute_result"
    }
   ],
   "source": [
    "type(l[0])"
   ]
  },
  {
   "cell_type": "code",
   "execution_count": 74,
   "id": "eba0ad58-4952-4684-86ff-9a5765b73ba1",
   "metadata": {},
   "outputs": [
    {
     "data": {
      "text/plain": [
       "[array([[17],\n",
       "        [21],\n",
       "        [25],\n",
       "        [29]]),\n",
       " array([[18],\n",
       "        [22],\n",
       "        [26],\n",
       "        [30]]),\n",
       " array([[19],\n",
       "        [23],\n",
       "        [27],\n",
       "        [31]]),\n",
       " array([[20],\n",
       "        [24],\n",
       "        [28],\n",
       "        [32]])]"
      ]
     },
     "execution_count": 74,
     "metadata": {},
     "output_type": "execute_result"
    }
   ],
   "source": [
    "np.split(arr2,4,axis=1)"
   ]
  },
  {
   "cell_type": "code",
   "execution_count": 76,
   "id": "49486865-eec8-40d4-835b-7e60ad06c040",
   "metadata": {},
   "outputs": [
    {
     "data": {
      "text/plain": [
       "array([[25, 26, 27, 28]])"
      ]
     },
     "execution_count": 76,
     "metadata": {},
     "output_type": "execute_result"
    }
   ],
   "source": [
    "np.split(arr2,4)[2]"
   ]
  },
  {
   "cell_type": "code",
   "execution_count": 82,
   "id": "251357aa-b4df-42bc-9203-afb060481f44",
   "metadata": {},
   "outputs": [
    {
     "data": {
      "text/plain": [
       "[array([9, 4]), array([7]), array([2, 6, 4])]"
      ]
     },
     "execution_count": 82,
     "metadata": {},
     "output_type": "execute_result"
    }
   ],
   "source": [
    "arr_1d=np.array([9,4,7,2,6,4])\n",
    "np.split(arr_1d,[2,3])  #pehle item me start se index 2 tk elemnt dosre item me jitne elemnt ho gye us sy agye se le kr 3rd-1index\n",
    "                        #baqi last item me sare ke sare jo reh gye"
   ]
  },
  {
   "cell_type": "code",
   "execution_count": 86,
   "id": "715b324b-2467-4731-bbda-14292c28167d",
   "metadata": {},
   "outputs": [
    {
     "data": {
      "text/plain": [
       "-0.8011526357338304"
      ]
     },
     "execution_count": 86,
     "metadata": {},
     "output_type": "execute_result"
    }
   ],
   "source": [
    "#TRIGNOMETRY LEC 8\n",
    "import matplotlib.pyplot as plt\n",
    "np.sin(180)"
   ]
  },
  {
   "cell_type": "code",
   "execution_count": 104,
   "id": "2bc87071-6c74-462c-a5a5-cc044c5482af",
   "metadata": {},
   "outputs": [
    {
     "data": {
      "text/plain": [
       "array([0. , 0.1, 0.2, 0.3, 0.4, 0.5, 0.6, 0.7, 0.8, 0.9, 1. , 1.1, 1.2,\n",
       "       1.3, 1.4, 1.5, 1.6, 1.7, 1.8, 1.9, 2. , 2.1, 2.2, 2.3, 2.4, 2.5,\n",
       "       2.6, 2.7, 2.8, 2.9, 3. , 3.1, 3.2, 3.3, 3.4, 3.5, 3.6, 3.7, 3.8,\n",
       "       3.9, 4. , 4.1, 4.2, 4.3, 4.4, 4.5, 4.6, 4.7, 4.8, 4.9, 5. , 5.1,\n",
       "       5.2, 5.3, 5.4, 5.5, 5.6, 5.7, 5.8, 5.9, 6. , 6.1, 6.2, 6.3, 6.4,\n",
       "       6.5, 6.6, 6.7, 6.8, 6.9, 7. , 7.1, 7.2, 7.3, 7.4, 7.5, 7.6, 7.7,\n",
       "       7.8, 7.9, 8. , 8.1, 8.2, 8.3, 8.4, 8.5, 8.6, 8.7, 8.8, 8.9, 9. ,\n",
       "       9.1, 9.2, 9.3, 9.4])"
      ]
     },
     "execution_count": 104,
     "metadata": {},
     "output_type": "execute_result"
    }
   ],
   "source": [
    "x_sin=np.arange(0,3*np.pi,0.1)\n",
    "x_sin"
   ]
  },
  {
   "cell_type": "code",
   "execution_count": 108,
   "id": "cd61b76c-7afc-476a-aa42-b74098588579",
   "metadata": {},
   "outputs": [
    {
     "data": {
      "text/plain": [
       "array([ 0.        ,  0.09983342,  0.19866933,  0.29552021,  0.38941834,\n",
       "        0.47942554,  0.56464247,  0.64421769,  0.71735609,  0.78332691,\n",
       "        0.84147098,  0.89120736,  0.93203909,  0.96355819,  0.98544973,\n",
       "        0.99749499,  0.9995736 ,  0.99166481,  0.97384763,  0.94630009,\n",
       "        0.90929743,  0.86320937,  0.8084964 ,  0.74570521,  0.67546318,\n",
       "        0.59847214,  0.51550137,  0.42737988,  0.33498815,  0.23924933,\n",
       "        0.14112001,  0.04158066, -0.05837414, -0.15774569, -0.2555411 ,\n",
       "       -0.35078323, -0.44252044, -0.52983614, -0.61185789, -0.68776616,\n",
       "       -0.7568025 , -0.81827711, -0.87157577, -0.91616594, -0.95160207,\n",
       "       -0.97753012, -0.993691  , -0.99992326, -0.99616461, -0.98245261,\n",
       "       -0.95892427, -0.92581468, -0.88345466, -0.83226744, -0.77276449,\n",
       "       -0.70554033, -0.63126664, -0.55068554, -0.46460218, -0.37387666,\n",
       "       -0.2794155 , -0.1821625 , -0.0830894 ,  0.0168139 ,  0.1165492 ,\n",
       "        0.21511999,  0.31154136,  0.40484992,  0.49411335,  0.57843976,\n",
       "        0.6569866 ,  0.72896904,  0.79366786,  0.85043662,  0.8987081 ,\n",
       "        0.93799998,  0.96791967,  0.98816823,  0.99854335,  0.99894134,\n",
       "        0.98935825,  0.96988981,  0.94073056,  0.90217183,  0.85459891,\n",
       "        0.79848711,  0.7343971 ,  0.66296923,  0.58491719,  0.50102086,\n",
       "        0.41211849,  0.31909836,  0.22288991,  0.12445442,  0.02477543])"
      ]
     },
     "execution_count": 108,
     "metadata": {},
     "output_type": "execute_result"
    }
   ],
   "source": [
    "y_sin=np.sin(x_sin)\n",
    "y_sin"
   ]
  },
  {
   "cell_type": "code",
   "execution_count": 110,
   "id": "964eef92-63cf-49bc-85d2-a4f6c020af06",
   "metadata": {},
   "outputs": [
    {
     "data": {
      "image/png": "[encoded data removed]",
      "text/plain": [
       "<Figure size 640x480 with 1 Axes>"
      ]
     },
     "metadata": {},
     "output_type": "display_data"
    }
   ],
   "source": [
    "plt.plot(x_sin,y_sin)\n",
    "plt.show()"
   ]
  },
  {
   "cell_type": "code",
   "execution_count": 112,
   "id": "e3fcfe37-aef0-4104-8b9b-8d810561e448",
   "metadata": {},
   "outputs": [
    {
     "data": {
      "image/png": "[encoded data removed]",
      "text/plain": [
       "<Figure size 640x480 with 1 Axes>"
      ]
     },
     "metadata": {},
     "output_type": "display_data"
    }
   ],
   "source": [
    "y_tan=np.tan(x_sin)\n",
    "plt.plot(x_sin,y_tan)\n",
    "plt.show()"
   ]
  },
  {
   "cell_type": "code",
   "execution_count": 114,
   "id": "df6d77f1-7e87-4c25-bbd4-77890cc600a2",
   "metadata": {},
   "outputs": [
    {
     "data": {
      "text/plain": [
       "array([0.7301495 , 0.90293499, 0.63411362, 0.22975352, 0.15717396])"
      ]
     },
     "execution_count": 114,
     "metadata": {},
     "output_type": "execute_result"
    }
   ],
   "source": [
    "#LEC 8 Random\n",
    "import random\n",
    "np.random.random(5)  # 0 to 1 both exclusive i got 5 values"
   ]
  },
  {
   "cell_type": "code",
   "execution_count": 116,
   "id": "7ff5b498-a2ed-4684-9116-3404b7afc0d3",
   "metadata": {},
   "outputs": [
    {
     "data": {
      "text/plain": [
       "1"
      ]
     },
     "execution_count": 116,
     "metadata": {},
     "output_type": "execute_result"
    }
   ],
   "source": [
    "np.random.randint(1,4) #4 exclusive 1 to 3 any integer"
   ]
  },
  {
   "cell_type": "code",
   "execution_count": 118,
   "id": "97ad75a8-756f-4f3b-abc6-89a98ca5e74f",
   "metadata": {},
   "outputs": [
    {
     "data": {
      "text/plain": [
       "array([[1, 2, 2, 2, 3, 3],\n",
       "       [1, 3, 2, 1, 1, 2],\n",
       "       [1, 2, 2, 3, 1, 1]])"
      ]
     },
     "execution_count": 118,
     "metadata": {},
     "output_type": "execute_result"
    }
   ],
   "source": [
    "np.random.randint(1,4,size=(3,6))  #create matrix"
   ]
  },
  {
   "cell_type": "code",
   "execution_count": 122,
   "id": "cd983a65-f0aa-498d-9bf7-6c198069b695",
   "metadata": {},
   "outputs": [
    {
     "data": {
      "text/plain": [
       "array([[0.2307684 , 0.56275549, 0.3060211 ],\n",
       "       [0.27669838, 0.47056967, 0.08739712],\n",
       "       [0.01127448, 0.23300007, 0.16781803]])"
      ]
     },
     "execution_count": 122,
     "metadata": {},
     "output_type": "execute_result"
    }
   ],
   "source": [
    "np.random.rand(3,3)   #create matrix from 0 to 1"
   ]
  },
  {
   "cell_type": "code",
   "execution_count": 130,
   "id": "b0297aaa-b76a-42f7-8eda-984dca16d6a8",
   "metadata": {},
   "outputs": [
    {
     "data": {
      "text/plain": [
       "array([[-1.20570146,  0.07625824, -0.30202388],\n",
       "       [-1.04537277,  0.14745973, -0.32267391],\n",
       "       [ 0.02181494, -1.1420809 ,  0.86342768]])"
      ]
     },
     "execution_count": 130,
     "metadata": {},
     "output_type": "execute_result"
    }
   ],
   "source": [
    "np.random.randn(3,3)  #give some negative to range smjh nhi ai"
   ]
  },
  {
   "cell_type": "code",
   "execution_count": 183,
   "id": "9b8ae6d5-08fa-4675-b783-65fb1a177a5f",
   "metadata": {},
   "outputs": [
    {
     "data": {
      "text/plain": [
       "'b'"
      ]
     },
     "execution_count": 183,
     "metadata": {},
     "output_type": "execute_result"
    }
   ],
   "source": [
    "x=['a','b','c','d','c']\n",
    "np.random.choice(x)"
   ]
  },
  {
   "cell_type": "code",
   "execution_count": 154,
   "id": "7e2857b5-2236-463d-8328-3483a74a3dea",
   "metadata": {},
   "outputs": [
    {
     "data": {
      "text/plain": [
       "array(['b', 'c', 'd', 'a', 'c'], dtype='<U1')"
      ]
     },
     "execution_count": 154,
     "metadata": {},
     "output_type": "execute_result"
    }
   ],
   "source": [
    "np.random.permutation(x) #every time gives new sequence"
   ]
  },
  {
   "cell_type": "code",
   "execution_count": 185,
   "id": "98a83ef0-cb16-48d1-9297-a1e2543ca732",
   "metadata": {},
   "outputs": [
    {
     "name": "stdout",
     "output_type": "stream",
     "text": [
      "['a', 'b', 'c', 'd', 'c']\n",
      "['c', 'b', 'a', 'd', 'c']\n"
     ]
    }
   ],
   "source": [
    "print(x)\n",
    "np.random.shuffle(x)   #shuffle the actual list doesnot return anything\n",
    "print(x)"
   ]
  },
  {
   "cell_type": "code",
   "execution_count": 187,
   "id": "65e956fb-8068-4856-8f9d-152318248063",
   "metadata": {},
   "outputs": [
    {
     "data": {
      "text/plain": [
       "array('Hello I am Ashan BaigHow are you?', dtype='<U33')"
      ]
     },
     "execution_count": 187,
     "metadata": {},
     "output_type": "execute_result"
    }
   ],
   "source": [
    "######LEC 10 string\n",
    "str1='Hello I am Ashan Baig'\n",
    "str2='How are you?'\n",
    "np.char.add(str1,str2)\n"
   ]
  },
  {
   "cell_type": "code",
   "execution_count": 189,
   "id": "9ad95714-b5d5-4964-b934-8dff54f274f4",
   "metadata": {},
   "outputs": [
    {
     "data": {
      "text/plain": [
       "array(list(['Hello', 'I', 'am', 'Ashan', 'Baig']), dtype=object)"
      ]
     },
     "execution_count": 189,
     "metadata": {},
     "output_type": "execute_result"
    }
   ],
   "source": [
    "np.char.split(str1)"
   ]
  },
  {
   "cell_type": "code",
   "execution_count": 191,
   "id": "2fa5e6f5-0d7e-4855-a34f-98f74f1a239a",
   "metadata": {},
   "outputs": [
    {
     "data": {
      "text/plain": [
       "array('+++++++++++++++++++++++++++++++++++++++Hello I am Ashan Baig++++++++++++++++++++++++++++++++++++++++',\n",
       "      dtype='<U100')"
      ]
     },
     "execution_count": 191,
     "metadata": {},
     "output_type": "execute_result"
    }
   ],
   "source": [
    "np.char.center(str1,100,fillchar='+')"
   ]
  },
  {
   "cell_type": "code",
   "execution_count": 193,
   "id": "2c6db03c-4c3c-406b-b6f7-9b097743b78a",
   "metadata": {},
   "outputs": [
    {
     "data": {
      "text/plain": [
       "array(['d+m+y'], dtype='<U5')"
      ]
     },
     "execution_count": 193,
     "metadata": {},
     "output_type": "execute_result"
    }
   ],
   "source": [
    "str3='dmy'\n",
    "str4='dmy'\n",
    "np.char.join(['+'],[str3])"
   ]
  },
  {
   "cell_type": "code",
   "execution_count": 201,
   "id": "660fe291-554b-40fa-ac00-8ff0b41aae8e",
   "metadata": {},
   "outputs": [
    {
     "name": "stdout",
     "output_type": "stream",
     "text": [
      "H*e*l*l*o* *I* *a*m* *A*s*h*a*n* *B*a*i*g\n"
     ]
    }
   ],
   "source": [
    "l=np.char.join([':','*'],[str2,str1])\n",
    "print(l[1])"
   ]
  },
  {
   "cell_type": "code",
   "execution_count": 219,
   "id": "3106a258-6833-4cfe-bb6a-4e3e3b2c74bd",
   "metadata": {},
   "outputs": [
    {
     "data": {
      "text/plain": [
       "array('Artificial Intelligence', dtype='<U23')"
      ]
     },
     "execution_count": 219,
     "metadata": {},
     "output_type": "execute_result"
    }
   ],
   "source": [
    "a='AI'\n",
    "np.char.replace(a,'AI','Artificial Intelligence')"
   ]
  },
  {
   "cell_type": "code",
   "execution_count": 221,
   "id": "5cc99c4b-fd3e-4732-b7d4-3492ba5364ff",
   "metadata": {},
   "outputs": [
    {
     "data": {
      "text/plain": [
       "array(3)"
      ]
     },
     "execution_count": 221,
     "metadata": {},
     "output_type": "execute_result"
    }
   ],
   "source": [
    "np.char.count(str1,'a')"
   ]
  },
  {
   "cell_type": "code",
   "execution_count": 227,
   "id": "922c9021-8532-4c67-a8c8-02b9a2b92a26",
   "metadata": {},
   "outputs": [
    {
     "data": {
      "text/plain": [
       "array(11)"
      ]
     },
     "execution_count": 227,
     "metadata": {},
     "output_type": "execute_result"
    }
   ],
   "source": [
    "np.char.find(str1,'Ashan') #INDEX"
   ]
  },
  {
   "cell_type": "code",
   "execution_count": null,
   "id": "ff15bea1-e1c7-4888-8396-b47b4588538b",
   "metadata": {},
   "outputs": [],
   "source": [
    "#######numpy done"
   ]
  }
 ],
 "metadata": {
  "kernelspec": {
   "display_name": "Python 3 (ipykernel)",
   "language": "python",
   "name": "python3"
  },
  "language_info": {
   "codemirror_mode": {
    "name": "ipython",
    "version": 3
   },
   "file_extension": ".py",
   "mimetype": "text/x-python",
   "name": "python",
   "nbconvert_exporter": "python",
   "pygments_lexer": "ipython3",
   "version": "3.12.4"
  }
 },
 "nbformat": 4,
 "nbformat_minor": 5
}
