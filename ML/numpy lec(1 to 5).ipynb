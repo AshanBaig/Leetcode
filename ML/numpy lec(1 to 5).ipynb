{
 "cells": [
  {
   "cell_type": "code",
   "execution_count": 3,
   "id": "3e000793-c12d-4322-8c98-a4f8856a04ca",
   "metadata": {},
   "outputs": [],
   "source": [
    "\n",
    "import numpy as np"
   ]
  },
  {
   "cell_type": "code",
   "execution_count": 4,
   "id": "6cfa1fa7-cfd2-4b25-a3ac-34de98f61b10",
   "metadata": {},
   "outputs": [
    {
     "name": "stdout",
     "output_type": "stream",
     "text": [
      "[1 2 3 4]\n"
     ]
    }
   ],
   "source": [
    "arr_1d=np.array([1,2,3,4])\n",
    "print(arr_1d)"
   ]
  },
  {
   "cell_type": "code",
   "execution_count": 5,
   "id": "8681bb94-3760-4ef3-8e54-60ddd0365edf",
   "metadata": {},
   "outputs": [
    {
     "data": {
      "text/plain": [
       "numpy.ndarray"
      ]
     },
     "execution_count": 5,
     "metadata": {},
     "output_type": "execute_result"
    }
   ],
   "source": [
    "type(arr_1d)"
   ]
  },
  {
   "cell_type": "code",
   "execution_count": 6,
   "id": "47207212-ee07-4ec4-8f09-9d4a2c217f9a",
   "metadata": {},
   "outputs": [
    {
     "data": {
      "text/plain": [
       "1"
      ]
     },
     "execution_count": 6,
     "metadata": {},
     "output_type": "execute_result"
    }
   ],
   "source": [
    "arr_1d.ndim\n"
   ]
  },
  {
   "cell_type": "code",
   "execution_count": 7,
   "id": "2ce6388e-92d5-4bc0-a96f-7a78c1a680b3",
   "metadata": {},
   "outputs": [],
   "source": [
    "arr_2d=np.array([[1,2,5],[3,4,6]])"
   ]
  },
  {
   "cell_type": "code",
   "execution_count": 8,
   "id": "e847146f-3f60-4b79-b7d2-9bcdd67329bf",
   "metadata": {},
   "outputs": [
    {
     "data": {
      "text/plain": [
       "2"
      ]
     },
     "execution_count": 8,
     "metadata": {},
     "output_type": "execute_result"
    }
   ],
   "source": [
    "arr_2d.ndim"
   ]
  },
  {
   "cell_type": "code",
   "execution_count": 9,
   "id": "3f553d7f-5161-42d0-b955-d3cb6084483a",
   "metadata": {},
   "outputs": [
    {
     "data": {
      "text/plain": [
       "4"
      ]
     },
     "execution_count": 9,
     "metadata": {},
     "output_type": "execute_result"
    }
   ],
   "source": [
    "len(arr_1d)"
   ]
  },
  {
   "cell_type": "code",
   "execution_count": 10,
   "id": "66788c7d-911a-4fe3-9839-b64df4d3584e",
   "metadata": {},
   "outputs": [
    {
     "data": {
      "text/plain": [
       "6"
      ]
     },
     "execution_count": 10,
     "metadata": {},
     "output_type": "execute_result"
    }
   ],
   "source": [
    "\n",
    "arr_2d.size"
   ]
  },
  {
   "cell_type": "code",
   "execution_count": 11,
   "id": "49ce5a9d-f6c2-4174-978e-60e1fd13978c",
   "metadata": {},
   "outputs": [
    {
     "data": {
      "text/plain": [
       "2"
      ]
     },
     "execution_count": 11,
     "metadata": {},
     "output_type": "execute_result"
    }
   ],
   "source": [
    "len(arr_2d)"
   ]
  },
  {
   "cell_type": "code",
   "execution_count": 12,
   "id": "82e8ae7d-7d50-4b9c-bb00-08d2f7fe62b5",
   "metadata": {},
   "outputs": [
    {
     "data": {
      "text/plain": [
       "(2, 3)"
      ]
     },
     "execution_count": 12,
     "metadata": {},
     "output_type": "execute_result"
    }
   ],
   "source": [
    "arr_2d.shape"
   ]
  },
  {
   "cell_type": "code",
   "execution_count": 13,
   "id": "1e0a9581-38ee-4212-b642-a617e8f9b971",
   "metadata": {},
   "outputs": [
    {
     "data": {
      "text/plain": [
       "dtype('int64')"
      ]
     },
     "execution_count": 13,
     "metadata": {},
     "output_type": "execute_result"
    }
   ],
   "source": [
    "arr_2d.dtype\n"
   ]
  },
  {
   "cell_type": "code",
   "execution_count": 14,
   "id": "a23b40f9-3cad-42bb-8e7d-a6fb9ba3ccee",
   "metadata": {},
   "outputs": [],
   "source": [
    "mx_1s=np.ones((3,4),dtype=int)"
   ]
  },
  {
   "cell_type": "code",
   "execution_count": 15,
   "id": "47276969-62b2-4847-b472-401115fcb184",
   "metadata": {},
   "outputs": [
    {
     "name": "stdout",
     "output_type": "stream",
     "text": [
      "[[1 1 1 1]\n",
      " [1 1 1 1]\n",
      " [1 1 1 1]]\n"
     ]
    }
   ],
   "source": [
    "print(mx_1s)"
   ]
  },
  {
   "cell_type": "code",
   "execution_count": 16,
   "id": "308c3e34-69bb-4c21-aa82-f7ed42e5f385",
   "metadata": {},
   "outputs": [
    {
     "name": "stdout",
     "output_type": "stream",
     "text": [
      "[[False False]\n",
      " [False False]\n",
      " [False False]\n",
      " [False False]\n",
      " [False False]]\n"
     ]
    }
   ],
   "source": [
    "mx_0s=np.zeros((5,2),dtype=bool)\n",
    "print(mx_0s)"
   ]
  },
  {
   "cell_type": "code",
   "execution_count": 17,
   "id": "bd2db276-057a-4c59-a3f9-d02e15bce93f",
   "metadata": {},
   "outputs": [
    {
     "name": "stdout",
     "output_type": "stream",
     "text": [
      "[ 2  4  6  8 10 12 14 16 18 20]\n"
     ]
    }
   ],
   "source": [
    "# NUMPYFUNCTIONS\n",
    "# arange()\n",
    "arr_1d=np.arange(2,21,2)\n",
    "print(arr_1d)"
   ]
  },
  {
   "cell_type": "code",
   "execution_count": 18,
   "id": "a3ab0353-3942-4e18-8049-9cbe0593d3c7",
   "metadata": {},
   "outputs": [],
   "source": [
    "# LINESPACE()  equal divide "
   ]
  },
  {
   "cell_type": "code",
   "execution_count": 19,
   "id": "1f517686-3f50-4c5a-9c9d-ad958439b290",
   "metadata": {},
   "outputs": [
    {
     "data": {
      "text/plain": [
       "array([1, 2, 3, 5])"
      ]
     },
     "execution_count": 19,
     "metadata": {},
     "output_type": "execute_result"
    }
   ],
   "source": [
    "np.linspace(1,5,4,dtype=int)  #from 1 to 5 pick any 4 press shift tab to see more"
   ]
  },
  {
   "cell_type": "code",
   "execution_count": 20,
   "id": "33e351d4-5342-4a27-94bd-6f37093faff5",
   "metadata": {},
   "outputs": [],
   "source": [
    "# RESHSAPE()   1d to milti"
   ]
  },
  {
   "cell_type": "code",
   "execution_count": 21,
   "id": "1fad8f6c-c3de-43fc-9b62-66f9e602d989",
   "metadata": {},
   "outputs": [
    {
     "name": "stdout",
     "output_type": "stream",
     "text": [
      "[[ 2  4  6  8 10]\n",
      " [12 14 16 18 20]]\n"
     ]
    }
   ],
   "source": [
    "arr_2d=arr_1d.reshape(2,5)\n",
    "print(arr_2d)"
   ]
  },
  {
   "cell_type": "code",
   "execution_count": 22,
   "id": "73d28fac-4215-450f-b520-1d0d13bc83a1",
   "metadata": {},
   "outputs": [],
   "source": [
    "# Ravel() multi D to 1d"
   ]
  },
  {
   "cell_type": "code",
   "execution_count": 23,
   "id": "86efe3bc-208b-4f5c-a0ce-12d06e7fea1d",
   "metadata": {},
   "outputs": [
    {
     "name": "stdout",
     "output_type": "stream",
     "text": [
      "[ 2  4  6  8 10 12 14 16 18 20]\n"
     ]
    }
   ],
   "source": [
    "arr_1d=arr_2d.ravel()\n",
    "print(arr_1d)"
   ]
  },
  {
   "cell_type": "code",
   "execution_count": 24,
   "id": "2600204b-c06e-44a9-b68d-4224c633ad22",
   "metadata": {},
   "outputs": [],
   "source": [
    "# Flatten () multi D to 1d  may get parameters as per need "
   ]
  },
  {
   "cell_type": "code",
   "execution_count": 25,
   "id": "fb57d090-7753-404d-b973-3daed3334954",
   "metadata": {},
   "outputs": [
    {
     "name": "stdout",
     "output_type": "stream",
     "text": [
      "[ 2  4  6  8 10 12 14 16 18 20]\n"
     ]
    }
   ],
   "source": [
    "arr_1d=arr_2d.flatten()\n",
    "print(arr_1d)"
   ]
  },
  {
   "cell_type": "code",
   "execution_count": 26,
   "id": "a6056e32-ecdf-4074-b062-79eeaae47260",
   "metadata": {},
   "outputs": [],
   "source": [
    "#TRANSPOSE()"
   ]
  },
  {
   "cell_type": "code",
   "execution_count": 43,
   "id": "acd9beba-f773-42fc-8771-c3a33f7a2e41",
   "metadata": {},
   "outputs": [
    {
     "name": "stdout",
     "output_type": "stream",
     "text": [
      "[[ 2 12]\n",
      " [ 4 14]\n",
      " [ 6 16]\n",
      " [ 8 18]\n",
      " [10 20]]\n"
     ]
    }
   ],
   "source": [
    "print(arr_2d.transpose())"
   ]
  },
  {
   "cell_type": "code",
   "execution_count": 28,
   "id": "32e998b4-80f9-48f0-96c2-bd7bd6271cd9",
   "metadata": {},
   "outputs": [],
   "source": [
    "# OPERATORS"
   ]
  },
  {
   "cell_type": "code",
   "execution_count": 46,
   "id": "e29932bc-ef64-4def-84d6-0b0fa62e1e7f",
   "metadata": {},
   "outputs": [
    {
     "name": "stdout",
     "output_type": "stream",
     "text": [
      "\n",
      "[[1 2 3]\n",
      " [4 5 6]\n",
      " [7 8 9]]\n"
     ]
    }
   ],
   "source": [
    "arr1=np.arange(1,10).reshape(3,3)\n",
    "arr2=np.arange(1,10).reshape(3,3)\n",
    "print(arr1)\n",
    "print(arr2)"
   ]
  },
  {
   "cell_type": "code",
   "execution_count": 30,
   "id": "fde157ba-8c38-4613-83ca-10e94a27d720",
   "metadata": {},
   "outputs": [
    {
     "data": {
      "text/plain": [
       "array([[ 2,  4,  6],\n",
       "       [ 8, 10, 12],\n",
       "       [14, 16, 18]])"
      ]
     },
     "execution_count": 30,
     "metadata": {},
     "output_type": "execute_result"
    }
   ],
   "source": [
    "np.add(arr1,arr2)   #divide multiply subtract index to index"
   ]
  },
  {
   "cell_type": "code",
   "execution_count": 31,
   "id": "e3beb2fb-e721-45d7-8b15-ffe704441ccd",
   "metadata": {},
   "outputs": [
    {
     "data": {
      "text/plain": [
       "array([[ 30,  36,  42],\n",
       "       [ 66,  81,  96],\n",
       "       [102, 126, 150]])"
      ]
     },
     "execution_count": 31,
     "metadata": {},
     "output_type": "execute_result"
    }
   ],
   "source": [
    "arr1.dot(arr2)    #proper matrix multiply"
   ]
  },
  {
   "cell_type": "code",
   "execution_count": 32,
   "id": "02a982f0-c06b-4556-b0d7-9fee24933519",
   "metadata": {},
   "outputs": [
    {
     "data": {
      "text/plain": [
       "np.int64(9)"
      ]
     },
     "execution_count": 32,
     "metadata": {},
     "output_type": "execute_result"
    }
   ],
   "source": [
    "arr1.max()"
   ]
  },
  {
   "cell_type": "code",
   "execution_count": 33,
   "id": "4daa6766-877a-4de7-aaa2-ad93e1cf1367",
   "metadata": {},
   "outputs": [
    {
     "data": {
      "text/plain": [
       "array([7, 8, 9])"
      ]
     },
     "execution_count": 33,
     "metadata": {},
     "output_type": "execute_result"
    }
   ],
   "source": [
    "arr1.max(axis=0) #axis0 for column axis 1 for row"
   ]
  },
  {
   "cell_type": "code",
   "execution_count": 34,
   "id": "66533ebf-6697-4b84-b777-d87bac44410a",
   "metadata": {},
   "outputs": [
    {
     "data": {
      "text/plain": [
       "np.int64(8)"
      ]
     },
     "execution_count": 34,
     "metadata": {},
     "output_type": "execute_result"
    }
   ],
   "source": [
    "arr1.argmax()   #REturn index of maximum"
   ]
  },
  {
   "cell_type": "code",
   "execution_count": 35,
   "id": "62a639df-32af-4edf-be89-01c760d55708",
   "metadata": {},
   "outputs": [
    {
     "data": {
      "text/plain": [
       "np.int64(45)"
      ]
     },
     "execution_count": 35,
     "metadata": {},
     "output_type": "execute_result"
    }
   ],
   "source": [
    "np.sum(arr1)"
   ]
  },
  {
   "cell_type": "code",
   "execution_count": 36,
   "id": "49f246b3-99e1-4333-9e9f-01b9a14571cc",
   "metadata": {},
   "outputs": [
    {
     "data": {
      "text/plain": [
       "array([12, 15, 18])"
      ]
     },
     "execution_count": 36,
     "metadata": {},
     "output_type": "execute_result"
    }
   ],
   "source": [
    "np.sum(arr1,axis=0)  #sum of each column"
   ]
  },
  {
   "cell_type": "code",
   "execution_count": 37,
   "id": "2edb3397-a8a9-4078-a7b1-e384d63176a8",
   "metadata": {},
   "outputs": [
    {
     "data": {
      "text/plain": [
       "np.float64(5.0)"
      ]
     },
     "execution_count": 37,
     "metadata": {},
     "output_type": "execute_result"
    }
   ],
   "source": [
    " np.mean(arr1)   #averege"
   ]
  },
  {
   "cell_type": "code",
   "execution_count": 38,
   "id": "95e543df-463b-457a-b643-a680e204158e",
   "metadata": {},
   "outputs": [
    {
     "data": {
      "text/plain": [
       "array([[1.        , 1.41421356, 1.73205081],\n",
       "       [2.        , 2.23606798, 2.44948974],\n",
       "       [2.64575131, 2.82842712, 3.        ]])"
      ]
     },
     "execution_count": 38,
     "metadata": {},
     "output_type": "execute_result"
    }
   ],
   "source": [
    "np.sqrt(arr1)  #sqrt of each element"
   ]
  },
  {
   "cell_type": "code",
   "execution_count": 39,
   "id": "f3fc0393-9f93-47d1-af54-e62c576bab68",
   "metadata": {},
   "outputs": [
    {
     "data": {
      "text/plain": [
       "np.float64(2.581988897471611)"
      ]
     },
     "execution_count": 39,
     "metadata": {},
     "output_type": "execute_result"
    }
   ],
   "source": [
    "np.std(arr1)   #standard deviation"
   ]
  },
  {
   "cell_type": "code",
   "execution_count": 40,
   "id": "d1fe6bfe-8065-4e8c-bc72-daa759c244f1",
   "metadata": {},
   "outputs": [
    {
     "data": {
      "text/plain": [
       "array([[2.71828183e+00, 7.38905610e+00, 2.00855369e+01],\n",
       "       [5.45981500e+01, 1.48413159e+02, 4.03428793e+02],\n",
       "       [1.09663316e+03, 2.98095799e+03, 8.10308393e+03]])"
      ]
     },
     "execution_count": 40,
     "metadata": {},
     "output_type": "execute_result"
    }
   ],
   "source": [
    "np.exp(arr1)  #exponent e power x"
   ]
  },
  {
   "cell_type": "code",
   "execution_count": 41,
   "id": "b6a845cf-d508-48f6-9bd6-340ae3487036",
   "metadata": {},
   "outputs": [
    {
     "data": {
      "text/plain": [
       "array([[0.        , 0.69314718, 1.09861229],\n",
       "       [1.38629436, 1.60943791, 1.79175947],\n",
       "       [1.94591015, 2.07944154, 2.19722458]])"
      ]
     },
     "execution_count": 41,
     "metadata": {},
     "output_type": "execute_result"
    }
   ],
   "source": [
    "np.log(arr1) #natural log"
   ]
  },
  {
   "cell_type": "code",
   "execution_count": 42,
   "id": "e080677c-ea62-4eab-9306-7ca13372562d",
   "metadata": {},
   "outputs": [
    {
     "data": {
      "text/plain": [
       "array([[0.        , 0.30103   , 0.47712125],\n",
       "       [0.60205999, 0.69897   , 0.77815125],\n",
       "       [0.84509804, 0.90308999, 0.95424251]])"
      ]
     },
     "execution_count": 42,
     "metadata": {},
     "output_type": "execute_result"
    }
   ],
   "source": [
    "np.log10(arr1) #log base 10"
   ]
  },
  {
   "cell_type": "code",
   "execution_count": null,
   "id": "8f67b8d4-2691-41ba-8ca9-0aa859665b84",
   "metadata": {},
   "outputs": [],
   "source": []
  }
 ],
 "metadata": {
  "kernelspec": {
   "display_name": "Python 3 (ipykernel)",
   "language": "python",
   "name": "python3"
  },
  "language_info": {
   "codemirror_mode": {
    "name": "ipython",
    "version": 3
   },
   "file_extension": ".py",
   "mimetype": "text/x-python",
   "name": "python",
   "nbconvert_exporter": "python",
   "pygments_lexer": "ipython3",
   "version": "3.12.4"
  }
 },
 "nbformat": 4,
 "nbformat_minor": 5
}
